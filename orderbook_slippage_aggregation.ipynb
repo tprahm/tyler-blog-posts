{
 "cells": [
  {
   "attachments": {},
   "cell_type": "markdown",
   "metadata": {},
   "source": [
    "## Instructions and Description\n",
    "\n",
    "This Python notebook is designed to perform complex financial analysis on the real-time order book data for the Ethereum-USD trading pair on the Binance exchange using Amberdata's S3 buckets. Below is an overview of the structure and functionalities of the code.\n",
    "\n",
    "### 1. Importing Essential Libraries\n",
    "The code kicks off by importing the necessary Python and PySpark libraries:\n",
    "\n",
    "- `delta.tables`: To work with Delta tables in PySpark.\n",
    "- `pyspark.sql.window`: To apply window functions in Spark SQL.\n",
    "- `pyspark.sql.functions`: To use a wide range of functions in Spark SQL.\n",
    "- `pyspark.sql.types`: To define specific data types.\n",
    "\n",
    "### 2. Data Ingestion and Basic Filtering\n",
    "The code reads data from an S3 bucket containing DeltaLake tables. It applies basic filters to isolate data (feel free to change the filters):\n",
    "\n",
    "- Year: 2023\n",
    "- Month: August\n",
    "- Day: 29\n",
    "- Exchange: Binance\n",
    "- Trading Pair: ETH/USDT\n",
    "\n",
    "### 3. Data Transformation\n",
    "After reading the data, it undergoes several transformations to prepare for analysis:\n",
    "\n",
    "- Type casting: Converting timestamp to `long` data type.\n",
    "- Column selection: Isolating relevant columns like price and quantity.\n",
    "\n",
    "#### Additional Data Filtering:\n",
    "\n",
    "- `bid_book`: Contains the data for bid orders.\n",
    "- `ask_book`: Contains the data for ask orders.\n",
    "\n",
    "### 4. Calculating Slippage and Other Metrics\n",
    "The code calculates slippage, cost, and other metrics based on the real-time order book. The following metrics are computed:\n",
    "\n",
    "- `cum_quantity`: Cumulative sum of quantities.\n",
    "- `cum_cost`: Cumulative sum of cost.\n",
    "- `slippage`: Calculated based on the difference between the desired and actual order amounts.\n",
    "- `currency_slippage`: Slippage in terms of currency.\n",
    "- `dollar_slippage`: Slippage in terms of US dollars.\n",
    "- `percent_slippage`: Slippage as a percentage of the order.\n",
    "\n",
    "### 5. Combining Bid and Ask Books\n",
    "The `bid_book` and `ask_book` are then joined on the `exchangeTimestamp` field, and aggregate metrics are computed.\n",
    "\n",
    "### 6. Resultant Order Book Analysis\n",
    "Finally, the code groups the data by `exchangeTimestamp` to calculate first non-null instances of various slippage metrics for both buying and selling.\n",
    "\n",
    "#### Additional Features:\n",
    "\n",
    "- The code uses the Spark DataFrame's `.cache()` method to cache intermediate DataFrames for improved performance.\n",
    "- Window functions are applied for partitioning and ordering data.\n",
    "\n",
    "### Sample Code Variables\n",
    "You can set your cost basis like this:\n",
    "\n",
    "```python\n",
    "cost_basis = 1_000_000\n",
    "```\n",
    "\n",
    "This sets your cost basis to 1 million USD, and slippage calculations will be based on this.\n",
    "\n",
    "*Note: Due to the real-time nature of the data and heavy calculations, this notebook might take a considerable amount of time to run.*"
   ]
  },
  {
   "cell_type": "code",
   "execution_count": null,
   "metadata": {
    "application/vnd.databricks.v1+cell": {
     "cellMetadata": {
      "byteLimit": 2048000,
      "rowLimit": 10000
     },
     "inputWidgets": {},
     "nuid": "61f6e19d-bc01-40f6-9023-1710c55f5b28",
     "showTitle": false,
     "title": ""
    }
   },
   "outputs": [],
   "source": [
    "# 1. Importing Essential Libraries\n",
    "from delta.tables import DeltaTable\n",
    "from pyspark.sql.window import Window\n",
    "from pyspark.sql.functions import *\n",
    "import pyspark.sql.functions as f\n",
    "from pyspark.sql import SparkSession\n",
    "from pyspark.sql.types import IntegerType, StringType"
   ]
  },
  {
   "cell_type": "code",
   "execution_count": null,
   "metadata": {
    "application/vnd.databricks.v1+cell": {
     "cellMetadata": {
      "byteLimit": 2048000,
      "rowLimit": 10000
     },
     "inputWidgets": {},
     "nuid": "02a579cd-ebc1-4bc8-8444-66fb11f2f398",
     "showTitle": false,
     "title": ""
    }
   },
   "outputs": [],
   "source": [
    "# 2. Data Ingestion and Basic Filtering\n",
    "trades = (\n",
    "        DeltaTable\n",
    "        .forPath(spark, 's3://amberdata-marketdata-deltalake/spot/order-book-snapshots/').toDF()\n",
    "        .where('year = \"2023\" \\\n",
    "                AND month = \"08\"\\\n",
    "                AND day = \"29\"\\\n",
    "                AND exchange = \"binance\" \\\n",
    "                AND pair = \"eth_usdt\"')\n",
    "        .select(f.explode('orderBookSides')).select(\"col.exchangeTimestamp\", \"col.isBid\", f.explode('col.data'))\n",
    "         ).cache()"
   ]
  },
  {
   "cell_type": "code",
   "execution_count": null,
   "metadata": {
    "application/vnd.databricks.v1+cell": {
     "cellMetadata": {
      "byteLimit": 2048000,
      "rowLimit": 10000
     },
     "inputWidgets": {},
     "nuid": "cca905ef-f9ae-4192-b8d1-fe7638697840",
     "showTitle": false,
     "title": ""
    }
   },
   "outputs": [],
   "source": [
    "# 3.1 Data Transformation: Type Casting\n",
    "trades = trades.withColumn('exchangeTimestamp', f.col('exchangeTimestamp').cast('long'))\n",
    "\n",
    "# 3.2 Data Transformation: Column Selection\n",
    "trades = trades\\\n",
    "          .select(f.col(\"col\")\\\n",
    "          .getItem(0).alias(\"price\"), f.col(\"col\")\\\n",
    "          .getItem(1).alias(\"quantity\"), \"*\")\\\n",
    "          .drop(\"col\", 'timestamp_window')\n",
    "\n",
    "# 3.3 Additional Data Filtering: Bid and Ask Books\n",
    "bid_book = trades.filter(f.col(\"isBid\") == True).select(\"*\")\n",
    "ask_book = trades.filter(f.col(\"isBid\") == False).select(\"*\")\n",
    "\n",
    "# 3.4 Renaming Columns\n",
    "bid_book = bid_book.drop(\"isBid\")\n",
    "bid_book = bid_book.withColumnRenamed('price', 'bid_price').withColumnRenamed('quantity', 'bid_quantity')\n",
    "ask_book = ask_book.drop(\"isBid\")\n",
    "ask_book = ask_book.withColumnRenamed('price', 'ask_price').withColumnRenamed('quantity', 'ask_quantity')"
   ]
  },
  {
   "cell_type": "code",
   "execution_count": null,
   "metadata": {
    "application/vnd.databricks.v1+cell": {
     "cellMetadata": {
      "byteLimit": 2048000,
      "rowLimit": 10000
     },
     "inputWidgets": {},
     "nuid": "3c4817e2-a3da-4e29-a8b5-94a74ac50618",
     "showTitle": false,
     "title": ""
    }
   },
   "outputs": [
    {
     "data": {
      "text/html": [
       "<style scoped>\n",
       "  .table-result-container {\n",
       "    max-height: 300px;\n",
       "    overflow: auto;\n",
       "  }\n",
       "  table, th, td {\n",
       "    border: 1px solid black;\n",
       "    border-collapse: collapse;\n",
       "  }\n",
       "  th, td {\n",
       "    padding: 5px;\n",
       "  }\n",
       "  th {\n",
       "    text-align: left;\n",
       "  }\n",
       "</style><div class='table-result-container'><table class='table-result'><thead style='background-color: white'><tr><th>ask_price</th><th>ask_quantity</th><th>exchangeTimestamp</th></tr></thead><tbody><tr><td>1729.32</td><td>84.7922</td><td>1693347960000</td></tr><tr><td>1729.34</td><td>0.1498</td><td>1693347960000</td></tr><tr><td>1729.35</td><td>17.3918</td><td>1693347960000</td></tr><tr><td>1729.43</td><td>0.577</td><td>1693347960000</td></tr><tr><td>1729.45</td><td>3.0753</td><td>1693347960000</td></tr></tbody></table></div>"
      ]
     },
     "metadata": {
      "application/vnd.databricks.v1+output": {
       "addedWidgets": {},
       "aggData": [],
       "aggError": "",
       "aggOverflow": false,
       "aggSchema": [],
       "aggSeriesLimitReached": false,
       "aggType": "",
       "arguments": {},
       "columnCustomDisplayInfos": {},
       "data": [
        [
         1729.32,
         84.7922,
         1693347960000
        ],
        [
         1729.34,
         0.1498,
         1693347960000
        ],
        [
         1729.35,
         17.3918,
         1693347960000
        ],
        [
         1729.43,
         0.577,
         1693347960000
        ],
        [
         1729.45,
         3.0753,
         1693347960000
        ]
       ],
       "datasetInfos": [],
       "dbfsResultPath": null,
       "isJsonSchema": true,
       "metadata": {},
       "overflow": false,
       "plotOptions": {
        "customPlotOptions": {},
        "displayType": "table",
        "pivotAggregation": null,
        "pivotColumns": null,
        "xColumns": null,
        "yColumns": null
       },
       "removedWidgets": [],
       "schema": [
        {
         "metadata": "{}",
         "name": "ask_price",
         "type": "\"double\""
        },
        {
         "metadata": "{}",
         "name": "ask_quantity",
         "type": "\"double\""
        },
        {
         "metadata": "{}",
         "name": "exchangeTimestamp",
         "type": "\"long\""
        }
       ],
       "type": "table"
      }
     },
     "output_type": "display_data"
    }
   ],
   "source": [
    "# 4.1 Preview of Bid and Ask Books\n",
    "ask_book.limit(5).display()\n",
    "bid_book.limit(5).display()"
   ]
  },
  {
   "cell_type": "code",
   "execution_count": null,
   "metadata": {},
   "outputs": [],
   "source": [
    "# 5.1 Window Functions Initialization\n",
    "timestampWindow = Window.partitionBy(\"exchangeTimestamp\")\n",
    "\n",
    "# 5.2 Defining Windows for Bid and Ask Books\n",
    "bid_window = Window.partitionBy('exchangeTimestamp')\\\n",
    "        .orderBy(f.desc('bid_price'))\\\n",
    "        .rowsBetween(Window.unboundedPreceding, 0)\n",
    "\n",
    "ask_window = Window.partitionBy('exchangeTimestamp')\\\n",
    "        .orderBy(f.asc('ask_price'))\\\n",
    "        .rowsBetween(Window.unboundedPreceding, 0)"
   ]
  },
  {
   "cell_type": "code",
   "execution_count": null,
   "metadata": {
    "application/vnd.databricks.v1+cell": {
     "cellMetadata": {
      "byteLimit": 2048000,
      "rowLimit": 10000
     },
     "inputWidgets": {},
     "nuid": "597c5461-3efb-4d4a-8d7d-ebbb5db92dae",
     "showTitle": false,
     "title": ""
    }
   },
   "outputs": [],
   "source": [
    "# 6.1 Slippage and Metrics Calculation\n",
    "cost_basis = 1_000_000\n",
    "\n",
    "# 6.2 Calculations for Bid Book\n",
    "bid_book = bid_book\\\n",
    "        .withColumn(\"order_amount\", lit(cost_basis))\\\n",
    "        .withColumn(\"sell_order_price_1\", max(\"bid_price\").over(timestampWindow))\\\n",
    "        .withColumn(\"desired_amount\", col(\"order_amount\") / col(\"sell_order_price_1\"))\\\n",
    "        .withColumn(\"cum_quantity\", sum(\"bid_quantity\").over(bid_window))\\\n",
    "        .withColumn(\"cum_cost\", sum(col(\"bid_quantity\") * col(\"bid_price\")).over(bid_window))\\\n",
    "        .withColumn(\"slippage\", when(col('order_amount') - col('cum_cost') < 0, ((col('order_amount') - (col('cum_cost') - (col('bid_quantity') * col('bid_price')))) / col('bid_price')) + (col('cum_quantity') - col('bid_quantity')))\\\n",
    "            .otherwise(0))\\\n",
    "        .withColumn(\"sell_currency_slippage\", when(col('slippage') != 0, (col(\"desired_amount\") - col(\"slippage\")) *-1 ))\\\n",
    "        .withColumn(\"sell_dollar_slippage\", when(col('slippage') != 0, (col(\"order_amount\") - (col(\"slippage\")*col(\"sell_order_price_1\"))) *-1))\\\n",
    "        .withColumn(\"sell_percent_slippage\", when(col('slippage') != 0, ((col(\"desired_amount\") / col(\"slippage\")) -1 ) *-1 ))\n",
    "\n",
    "# 6.3 Calculations for Ask Book\n",
    "ask_book = ask_book\\\n",
    "        .withColumn(\"order_amount\", lit(cost_basis))\\\n",
    "        .withColumn(\"buy_order_price_1\", min(\"ask_price\").over(timestampWindow))\\\n",
    "        .withColumn(\"desired_amount\", col(\"order_amount\") / col(\"buy_order_price_1\"))\\\n",
    "        .withColumn(\"cum_quantity\", sum(\"ask_quantity\").over(ask_window))\\\n",
    "        .withColumn(\"cum_cost\", sum(col(\"ask_quantity\") * col(\"ask_price\")).over(ask_window))\\\n",
    "        .withColumn(\"slippage\", when(col('order_amount') - col('cum_cost') < 0, ((col('order_amount') - (col('cum_cost') - (col('ask_quantity') * col('ask_price')))) / col('ask_price')) + (col('cum_quantity') - col('ask_quantity')))\\\n",
    "            .otherwise(0))\\\n",
    "        .withColumn(\"buy_currency_slippage\", when(col('slippage') != 0, col(\"desired_amount\") - col(\"slippage\")))\\\n",
    "        .withColumn(\"buy_dollar_slippage\", when(col('slippage') != 0, col(\"order_amount\") - (col(\"slippage\")*col(\"buy_order_price_1\"))))\\\n",
    "        .withColumn(\"buy_percent_slippage\", when(col('slippage') != 0,(col(\"desired_amount\") / col(\"slippage\"))-1))\n",
    "\n",
    "# 6.4 Join and group Bid and Ask Book\n",
    "orderbook = bid_book.join(ask_book, on='exchangeTimestamp', how='inner')\n",
    "\n",
    "orderbook = orderbook.groupby(\"exchangeTimestamp\")\\\n",
    "            .agg(first(col(\"buy_currency_slippage\"), ignorenulls=True).alias(\"buy_currency_slippage\"),\n",
    "                 first(col(\"buy_dollar_slippage\"), ignorenulls=True).alias(\"buy_dollar_slippage\"),\n",
    "                 first(col(\"buy_percent_slippage\"), ignorenulls=True).alias(\"buy_percent_slippage\"),\n",
    "                 first(col(\"sell_currency_slippage\"), ignorenulls=True).alias(\"sell_currency_slippage\"),\n",
    "                 first(col(\"sell_dollar_slippage\"), ignorenulls=True).alias(\"sell_dollar_slippage\"),\n",
    "                 first(col(\"sell_percent_slippage\"), ignorenulls=True).alias(\"sell_percent_slippage\"))"
   ]
  },
  {
   "cell_type": "code",
   "execution_count": null,
   "metadata": {
    "application/vnd.databricks.v1+cell": {
     "cellMetadata": {
      "byteLimit": 2048000,
      "rowLimit": 10000
     },
     "inputWidgets": {},
     "nuid": "c0b22328-867e-4df7-9c09-f8ff87b1181f",
     "showTitle": false,
     "title": ""
    }
   },
   "outputs": [],
   "source": [
    "# 7. Display Results\n",
    "orderbook.limit(5).display()"
   ]
  }
 ],
 "metadata": {
  "application/vnd.databricks.v1+notebook": {
   "dashboards": [],
   "language": "python",
   "notebookMetadata": {
    "pythonIndentUnit": 4
   },
   "notebookName": "Historical Orderbook Bid Ask Spread Aggregation",
   "widgets": {}
  },
  "language_info": {
   "name": "python"
  }
 },
 "nbformat": 4,
 "nbformat_minor": 0
}
